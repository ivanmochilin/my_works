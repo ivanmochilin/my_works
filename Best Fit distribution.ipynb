{
 "cells": [
  {
   "cell_type": "markdown",
   "id": "4ad59bd0",
   "metadata": {},
   "source": [
    "# Suche nach der am besten geeigneten Verteilung"
   ]
  },
  {
   "cell_type": "raw",
   "id": "0bf95395",
   "metadata": {},
   "source": [
    "Bibliotheksimport"
   ]
  },
  {
   "cell_type": "code",
   "execution_count": 4,
   "id": "f573d148",
   "metadata": {},
   "outputs": [],
   "source": [
    "import matplotlib.pyplot as plt\n",
    "import matplotlib.ticker as ticker\n",
    "import seaborn as sns\n",
    "import pandas as pd\n",
    "import numpy as np\n",
    "import copulas\n",
    "from copulas.multivariate import  GaussianMultivariate\n",
    "from scipy.stats import rv_continuous, rv_histogram, norm, beta, multivariate_normal, t,rv_discrete\n",
    "from scipy import stats\n",
    "import pert\n",
    "import scipy"
   ]
  },
  {
   "cell_type": "raw",
   "id": "a4fdf99a",
   "metadata": {},
   "source": [
    "Stichprobengröße"
   ]
  },
  {
   "cell_type": "code",
   "execution_count": 2,
   "id": "678b3525",
   "metadata": {},
   "outputs": [],
   "source": [
    "N=150000"
   ]
  },
  {
   "cell_type": "raw",
   "id": "a3437ef9",
   "metadata": {},
   "source": [
    "Die gängigste Verteilungen"
   ]
  },
  {
   "cell_type": "code",
   "execution_count": 3,
   "id": "354c4990",
   "metadata": {},
   "outputs": [],
   "source": [
    "distr_list=['norm','expon','pareto','t','gamma','lognorm','beta','loggamma','exponnorm','pearson3','alpha',\n",
    "           'burr','betaprime','chi','chi2']"
   ]
  },
  {
   "cell_type": "markdown",
   "id": "477761e7",
   "metadata": {},
   "source": [
    "# Preis"
   ]
  },
  {
   "cell_type": "raw",
   "id": "2e5ef41d",
   "metadata": {},
   "source": [
    "Werte und zugehörige Wahrscheinlichkeiten"
   ]
  },
  {
   "cell_type": "code",
   "execution_count": 4,
   "id": "3bb8fc70",
   "metadata": {},
   "outputs": [],
   "source": [
    "preis=np.array([230,220,210,200,190,180])\n",
    "prob_preis=np.array([0.05,0.125,0.225,0.3,0.225,0.075])"
   ]
  },
  {
   "cell_type": "raw",
   "id": "073ade15",
   "metadata": {},
   "source": [
    "Erstellung einer diskreten Verteilung und Stichprobenziehung"
   ]
  },
  {
   "cell_type": "code",
   "execution_count": 5,
   "id": "db1ef297",
   "metadata": {},
   "outputs": [],
   "source": [
    "custm = stats.rv_discrete(name='custm', values=(preis, prob_preis))"
   ]
  },
  {
   "cell_type": "code",
   "execution_count": 6,
   "id": "ee02ed82",
   "metadata": {},
   "outputs": [],
   "source": [
    "sampl_dat=custm.rvs(size=N)"
   ]
  },
  {
   "cell_type": "raw",
   "id": "a85b8ad7",
   "metadata": {},
   "source": [
    "Berechnung der Werte der Log-Likelihood-Funktion für die Verteilungsgesetze"
   ]
  },
  {
   "cell_type": "code",
   "execution_count": 7,
   "id": "64579248",
   "metadata": {},
   "outputs": [
    {
     "name": "stderr",
     "output_type": "stream",
     "text": [
      "C:\\Users\\User\\AppData\\Local\\Programs\\Python\\Python39\\lib\\site-packages\\scipy\\stats\\_distn_infrastructure.py:2640: RuntimeWarning: invalid value encountered in double_scalars\n",
      "  Lhat = muhat - Shat*mu\n",
      "C:\\Users\\User\\AppData\\Local\\Programs\\Python\\Python39\\lib\\site-packages\\scipy\\stats\\_continuous_distns.py:809: RuntimeWarning: divide by zero encountered in true_divide\n",
      "  a/(b-1.0),\n",
      "C:\\Users\\User\\AppData\\Local\\Programs\\Python\\Python39\\lib\\site-packages\\scipy\\stats\\_continuous_distns.py:813: RuntimeWarning: divide by zero encountered in true_divide\n",
      "  a*(a+1.0)/((b-2.0)*(b-1.0)),\n"
     ]
    }
   ],
   "source": [
    "mle=[]\n",
    "for i in distr_list:\n",
    "    dist = getattr(scipy.stats, i) # Rücknahme Name des Verteilung (Class Attribute)\n",
    "    arg = dist.fit(sampl_dat) # Berechnung der Verteilungsargumente bei Verwendung einer diskreten Verteilung\n",
    "    new_distr=dist(*arg) # Erstellen einer Verteilungsklasse \n",
    "    data_synthetic = new_distr.rvs(size=N) # Stichproben aus einer Verteilung   \n",
    "    mle.append(dist.nnlf(arg, sampl_dat)) # Berechnung der Werte der Log-Likelihood-Funktion\n",
    "sse_df=pd.DataFrame({\"Distribution\": distr_list,\n",
    "                    \"MLE\": mle,}) # Erstellen einer Tabelle mit Verteilungen und entsprechenden Werten der Log-Likelihood-Funktion  "
   ]
  },
  {
   "cell_type": "raw",
   "id": "998efa75",
   "metadata": {},
   "source": [
    "Sortierte Werte der Log-Likelihood-Funktion"
   ]
  },
  {
   "cell_type": "code",
   "execution_count": 8,
   "id": "5ed01564",
   "metadata": {
    "scrolled": true
   },
   "outputs": [
    {
     "data": {
      "text/html": [
       "<div>\n",
       "<style scoped>\n",
       "    .dataframe tbody tr th:only-of-type {\n",
       "        vertical-align: middle;\n",
       "    }\n",
       "\n",
       "    .dataframe tbody tr th {\n",
       "        vertical-align: top;\n",
       "    }\n",
       "\n",
       "    .dataframe thead th {\n",
       "        text-align: right;\n",
       "    }\n",
       "</style>\n",
       "<table border=\"1\" class=\"dataframe\">\n",
       "  <thead>\n",
       "    <tr style=\"text-align: right;\">\n",
       "      <th></th>\n",
       "      <th>Distribution</th>\n",
       "      <th>MLE</th>\n",
       "    </tr>\n",
       "  </thead>\n",
       "  <tbody>\n",
       "    <tr>\n",
       "      <th>6</th>\n",
       "      <td>beta</td>\n",
       "      <td>560838.388399</td>\n",
       "    </tr>\n",
       "    <tr>\n",
       "      <th>13</th>\n",
       "      <td>chi</td>\n",
       "      <td>592982.270237</td>\n",
       "    </tr>\n",
       "    <tr>\n",
       "      <th>4</th>\n",
       "      <td>gamma</td>\n",
       "      <td>594224.540221</td>\n",
       "    </tr>\n",
       "    <tr>\n",
       "      <th>9</th>\n",
       "      <td>pearson3</td>\n",
       "      <td>594224.540221</td>\n",
       "    </tr>\n",
       "    <tr>\n",
       "      <th>10</th>\n",
       "      <td>alpha</td>\n",
       "      <td>594519.270509</td>\n",
       "    </tr>\n",
       "    <tr>\n",
       "      <th>12</th>\n",
       "      <td>betaprime</td>\n",
       "      <td>594670.228187</td>\n",
       "    </tr>\n",
       "    <tr>\n",
       "      <th>8</th>\n",
       "      <td>exponnorm</td>\n",
       "      <td>595416.624732</td>\n",
       "    </tr>\n",
       "    <tr>\n",
       "      <th>0</th>\n",
       "      <td>norm</td>\n",
       "      <td>595589.416151</td>\n",
       "    </tr>\n",
       "    <tr>\n",
       "      <th>3</th>\n",
       "      <td>t</td>\n",
       "      <td>595592.659746</td>\n",
       "    </tr>\n",
       "    <tr>\n",
       "      <th>7</th>\n",
       "      <td>loggamma</td>\n",
       "      <td>595785.227520</td>\n",
       "    </tr>\n",
       "    <tr>\n",
       "      <th>11</th>\n",
       "      <td>burr</td>\n",
       "      <td>600121.562815</td>\n",
       "    </tr>\n",
       "    <tr>\n",
       "      <th>1</th>\n",
       "      <td>expon</td>\n",
       "      <td>617093.948238</td>\n",
       "    </tr>\n",
       "    <tr>\n",
       "      <th>2</th>\n",
       "      <td>pareto</td>\n",
       "      <td>622966.947153</td>\n",
       "    </tr>\n",
       "    <tr>\n",
       "      <th>5</th>\n",
       "      <td>lognorm</td>\n",
       "      <td>649814.462039</td>\n",
       "    </tr>\n",
       "    <tr>\n",
       "      <th>14</th>\n",
       "      <td>chi2</td>\n",
       "      <td>973523.634626</td>\n",
       "    </tr>\n",
       "  </tbody>\n",
       "</table>\n",
       "</div>"
      ],
      "text/plain": [
       "   Distribution            MLE\n",
       "6          beta  560838.388399\n",
       "13          chi  592982.270237\n",
       "4         gamma  594224.540221\n",
       "9      pearson3  594224.540221\n",
       "10        alpha  594519.270509\n",
       "12    betaprime  594670.228187\n",
       "8     exponnorm  595416.624732\n",
       "0          norm  595589.416151\n",
       "3             t  595592.659746\n",
       "7      loggamma  595785.227520\n",
       "11         burr  600121.562815\n",
       "1         expon  617093.948238\n",
       "2        pareto  622966.947153\n",
       "5       lognorm  649814.462039\n",
       "14         chi2  973523.634626"
      ]
     },
     "execution_count": 8,
     "metadata": {},
     "output_type": "execute_result"
    }
   ],
   "source": [
    "sse_df.sort_values(by=['MLE'],ascending=True)"
   ]
  },
  {
   "cell_type": "raw",
   "id": "4b5e11da",
   "metadata": {},
   "source": [
    "Importieren der SSE-Berechnungsbibliothek"
   ]
  },
  {
   "cell_type": "code",
   "execution_count": 9,
   "id": "f044a19d",
   "metadata": {},
   "outputs": [],
   "source": [
    "from distfit import distfit"
   ]
  },
  {
   "cell_type": "raw",
   "id": "41254212",
   "metadata": {},
   "source": [
    "Initialisierung einer Klasse mit einer bestimmten RSE-Methode und Verteilungen für die Sortierung"
   ]
  },
  {
   "cell_type": "code",
   "execution_count": 10,
   "id": "0bb3007d",
   "metadata": {},
   "outputs": [],
   "source": [
    "dist = distfit(stats='RSS',distr=distr_list)   "
   ]
  },
  {
   "cell_type": "raw",
   "id": "f524d8c3",
   "metadata": {},
   "source": [
    "Anwendung einer bestimmten Klasse auf eine Stichprobe aus einer diskreten Verteilung"
   ]
  },
  {
   "cell_type": "code",
   "execution_count": 11,
   "id": "64d05bcc",
   "metadata": {
    "scrolled": true
   },
   "outputs": [
    {
     "name": "stdout",
     "output_type": "stream",
     "text": [
      "[distfit] >fit..\n",
      "[distfit] >transform..\n",
      "[distfit] >[norm     ] [0.00 sec] [RSS: 0.192987] [loc=202.510 scale=12.828]\n",
      "[distfit] >[expon    ] [0.00 sec] [RSS: 0.19908] [loc=180.000 scale=22.510]\n",
      "[distfit] >[pareto   ] [2.61 sec] [RSS: 0.20017] [loc=-0.541 scale=180.541]\n",
      "[distfit] >[t        ] [2.77 sec] [RSS: 0.192987] [loc=202.510 scale=12.827]\n",
      "[distfit] >[gamma    ] [1.78 sec] [RSS: 0.192895] [loc=143.564 scale=2.832]\n",
      "[distfit] >[lognorm  ] [6.22 sec] [RSS: 0.209168] [loc=180.000 scale=0.161]\n",
      "[distfit] >[beta     ] [4.60 sec] [RSS: 0.193962] [loc=180.000 scale=51.900]\n",
      "[distfit] >[loggamma ] [2.13 sec] [RSS: 0.192972] [loc=-2968.712 scale=447.693]\n",
      "[distfit] >[exponnorm] [1.49 sec] [RSS: 0.192957] [loc=197.255 scale=11.728]\n",
      "[distfit] >[pearson3 ] [3.04 sec] [RSS: 0.192895] [loc=202.510 scale=12.920]\n",
      "[distfit] >[alpha    ] [3.01 sec] [RSS: 0.192899] [loc=-15.445 scale=3716.750]\n",
      "[distfit] >[burr     ] [15.6 sec] [RSS: 0.193601] [loc=-0.910 scale=155.943]\n",
      "[distfit] >[betaprime] [4.11 sec] [RSS: 0.192898] [loc=-4.454 scale=88.847]\n",
      "[distfit] >[chi      ] [1.59 sec] [RSS: 0.192947] [loc=174.263 scale=19.644]\n",
      "[distfit] >[chi2     ] [2.61 sec] [RSS: 0.242236] [loc=180.000 scale=2.702]\n",
      "[distfit] >Compute confidence interval [parametric]\n"
     ]
    },
    {
     "data": {
      "text/plain": [
       "{'model': {'distr': <scipy.stats._continuous_distns.pearson3_gen at 0x26d29306fa0>,\n",
       "  'stats': 'RSS',\n",
       "  'params': (0.4383631992224467, 202.51002468660408, 12.91987824922752),\n",
       "  'name': 'pearson3',\n",
       "  'model': <scipy.stats._distn_infrastructure.rv_frozen at 0x26d2b5a0c10>,\n",
       "  'score': 0.19289455065456493,\n",
       "  'loc': 202.51002468660408,\n",
       "  'scale': 12.91987824922752,\n",
       "  'arg': (0.4383631992224467,),\n",
       "  'CII_min_alpha': 182.98573039448186,\n",
       "  'CII_max_alpha': 225.24562681984818},\n",
       " 'summary':         distr     score  LLE          loc        scale  \\\n",
       " 0    pearson3  0.192895  NaN   202.510025    12.919878   \n",
       " 1       gamma  0.192895  NaN   143.564023     2.831792   \n",
       " 2   betaprime  0.192898  NaN    -4.453613    88.846841   \n",
       " 3       alpha  0.192899  NaN   -15.444613  3716.749882   \n",
       " 4         chi  0.192947  NaN   174.263376    19.644003   \n",
       " 5   exponnorm  0.192957  NaN   197.255086    11.728363   \n",
       " 6    loggamma  0.192972  NaN -2968.711811   447.693098   \n",
       " 7        norm  0.192987  NaN       202.51     12.82835   \n",
       " 8           t  0.192987  NaN   202.509516    12.826889   \n",
       " 9        burr  0.193601  NaN    -0.909833   155.943467   \n",
       " 10       beta  0.193962  NaN        180.0    51.899784   \n",
       " 11      expon   0.19908  NaN        180.0        22.51   \n",
       " 12     pareto   0.20017  NaN    -0.540695   180.540695   \n",
       " 13    lognorm  0.209168  NaN        180.0      0.16081   \n",
       " 14       chi2  0.242236  NaN        180.0     2.701519   \n",
       " \n",
       "                                          arg  \n",
       " 0                      (0.4383631992224467,)  \n",
       " 1                       (20.81578633615551,)  \n",
       " 2    (870.8435911482304, 374.85894354708034)  \n",
       " 3                       (17.11157982873224,)  \n",
       " 4                       (2.494092883906993,)  \n",
       " 5                      (0.4480522379658034,)  \n",
       " 6                      (1192.4816988974685,)  \n",
       " 7                                         ()  \n",
       " 8                       (6368.588696322187,)  \n",
       " 9     (17.59428301724138, 59.99767739585769)  \n",
       " 10  (0.9233475530036277, 1.2044518748867774)  \n",
       " 11                                        ()  \n",
       " 12                      (8.656849140560922,)  \n",
       " 13                      (6.492972474389831,)  \n",
       " 14                     (0.3675863022004453,)  ,\n",
       " 'histdata': (array([0.07526   , 0.        , 0.        , 0.        , 0.        ,\n",
       "         0.        , 0.        , 0.        , 0.        , 0.        ,\n",
       "         0.22580667, 0.        , 0.        , 0.        , 0.        ,\n",
       "         0.        , 0.        , 0.        , 0.        , 0.        ,\n",
       "         0.29784   , 0.        , 0.        , 0.        , 0.        ,\n",
       "         0.        , 0.        , 0.        , 0.        , 0.        ,\n",
       "         0.22587333, 0.        , 0.        , 0.        , 0.        ,\n",
       "         0.        , 0.        , 0.        , 0.        , 0.        ,\n",
       "         0.12420667, 0.        , 0.        , 0.        , 0.        ,\n",
       "         0.        , 0.        , 0.        , 0.        , 0.05101333]),\n",
       "  array([180.5, 181.5, 182.5, 183.5, 184.5, 185.5, 186.5, 187.5, 188.5,\n",
       "         189.5, 190.5, 191.5, 192.5, 193.5, 194.5, 195.5, 196.5, 197.5,\n",
       "         198.5, 199.5, 200.5, 201.5, 202.5, 203.5, 204.5, 205.5, 206.5,\n",
       "         207.5, 208.5, 209.5, 210.5, 211.5, 212.5, 213.5, 214.5, 215.5,\n",
       "         216.5, 217.5, 218.5, 219.5, 220.5, 221.5, 222.5, 223.5, 224.5,\n",
       "         225.5, 226.5, 227.5, 228.5, 229.5])),\n",
       " 'size': 150000,\n",
       " 'alpha': 0.05,\n",
       " 'stats': 'RSS',\n",
       " 'bins': 50,\n",
       " 'bound': 'both',\n",
       " 'distr': ['norm',\n",
       "  'expon',\n",
       "  'pareto',\n",
       "  't',\n",
       "  'gamma',\n",
       "  'lognorm',\n",
       "  'beta',\n",
       "  'loggamma',\n",
       "  'exponnorm',\n",
       "  'pearson3',\n",
       "  'alpha',\n",
       "  'burr',\n",
       "  'betaprime',\n",
       "  'chi',\n",
       "  'chi2'],\n",
       " 'method': 'parametric',\n",
       " 'multtest': 'fdr_bh',\n",
       " 'n_perm': 10000,\n",
       " 'smooth': None,\n",
       " 'weighted': True,\n",
       " 'f': 1.5}"
      ]
     },
     "execution_count": 11,
     "metadata": {},
     "output_type": "execute_result"
    }
   ],
   "source": [
    "dist.fit_transform(sampl_dat) "
   ]
  },
  {
   "cell_type": "raw",
   "id": "fde8484f",
   "metadata": {},
   "source": [
    "Berechnung der Parameter der Pearson-Typ-3-Verteilung "
   ]
  },
  {
   "cell_type": "code",
   "execution_count": 12,
   "id": "0896b499",
   "metadata": {},
   "outputs": [],
   "source": [
    "param=stats.pearson3.fit(sampl_dat)"
   ]
  },
  {
   "cell_type": "raw",
   "id": "837b33a3",
   "metadata": {},
   "source": [
    "Initialisierung einer Verteilungsklasse mit hinteren Parametern"
   ]
  },
  {
   "cell_type": "code",
   "execution_count": 13,
   "id": "0784437d",
   "metadata": {},
   "outputs": [],
   "source": [
    "preis_distr=stats.pearson3(*param)"
   ]
  },
  {
   "cell_type": "raw",
   "id": "0d82af75",
   "metadata": {},
   "source": [
    "Stichproben aus einer Verteilung"
   ]
  },
  {
   "cell_type": "code",
   "execution_count": 14,
   "id": "681abb0f",
   "metadata": {},
   "outputs": [],
   "source": [
    "data_synthetic = preis_distr.rvs(size=N)    "
   ]
  },
  {
   "cell_type": "raw",
   "id": "c098ceea",
   "metadata": {},
   "source": [
    "Visualisierung von kontinuierlichen und diskreten Verteilungen"
   ]
  },
  {
   "cell_type": "code",
   "execution_count": 15,
   "id": "d79db875",
   "metadata": {},
   "outputs": [
    {
     "data": {
      "text/plain": [
       "[<matplotlib.axis.XTick at 0x26d2b6b3b20>,\n",
       " <matplotlib.axis.XTick at 0x26d2b6b3af0>,\n",
       " <matplotlib.axis.XTick at 0x26d2b6b3190>,\n",
       " <matplotlib.axis.XTick at 0x26d2b7ef8e0>,\n",
       " <matplotlib.axis.XTick at 0x26d2b800070>,\n",
       " <matplotlib.axis.XTick at 0x26d2b7ef910>,\n",
       " <matplotlib.axis.XTick at 0x26d2b800970>,\n",
       " <matplotlib.axis.XTick at 0x26d2b806100>]"
      ]
     },
     "execution_count": 15,
     "metadata": {},
     "output_type": "execute_result"
    },
    {
     "data": {
      "image/png": "[encoded data removed]",
      "text/plain": [
       "<Figure size 432x288 with 1 Axes>"
      ]
     },
     "metadata": {
      "needs_background": "light"
     },
     "output_type": "display_data"
    }
   ],
   "source": [
    "ticks=[180,190,200,210,220,230,240,250]\n",
    "fig, ax = plt.subplots(1, 1)\n",
    "plt.title(\"Preis\")\n",
    "x = np.linspace(preis_distr.ppf(0.01),\n",
    "                preis_distr.ppf(0.99), N)\n",
    "ax.hist(sampl_dat, density=True, alpha=0.6,color='red',bins=ticks, histtype='step',align=\"left\" )\n",
    "ax.plot(x, preis_distr.pdf(x), 'r-', lw=5, alpha=0.6, label='beta pdf',color=\"green\")\n",
    "ax.set_xticks(ticks)\n"
   ]
  },
  {
   "cell_type": "markdown",
   "id": "dcb23fc5",
   "metadata": {},
   "source": [
    "# Menge"
   ]
  },
  {
   "cell_type": "raw",
   "id": "e0c8fe26",
   "metadata": {},
   "source": [
    "Werte und zugehörige Wahrscheinlichkeiten"
   ]
  },
  {
   "cell_type": "code",
   "execution_count": 16,
   "id": "e0b210ee",
   "metadata": {},
   "outputs": [],
   "source": [
    "menge=np.array([2325,2350,2375,2400,2425,2450,2475])\n",
    "prob_menge=np.array([0.05,0.125,0.225,0.25,0.225,0.1,0.025])"
   ]
  },
  {
   "cell_type": "raw",
   "id": "55fb5774",
   "metadata": {},
   "source": [
    "Erstellung einer diskreten Verteilung und Stichprobenziehung"
   ]
  },
  {
   "cell_type": "code",
   "execution_count": 17,
   "id": "108e966e",
   "metadata": {},
   "outputs": [],
   "source": [
    "custm = stats.rv_discrete(name='custm', values=(menge, prob_menge))"
   ]
  },
  {
   "cell_type": "code",
   "execution_count": 18,
   "id": "751cb52c",
   "metadata": {},
   "outputs": [],
   "source": [
    "sampl_dat=custm.rvs(size=N)"
   ]
  },
  {
   "cell_type": "raw",
   "id": "ed52d99c",
   "metadata": {},
   "source": [
    "Berechnung der Werte der Log-Likelihood-Funktion für die Verteilungsgesetze"
   ]
  },
  {
   "cell_type": "code",
   "execution_count": 19,
   "id": "06ed2367",
   "metadata": {},
   "outputs": [],
   "source": [
    "mle=[]\n",
    "for i in distr_list:\n",
    "    dist = getattr(scipy.stats, i) # Rücknahme Name des Vertriebs\n",
    "    arg = dist.fit(sampl_dat) # Berechnung der Verteilungsargumente bei Verwendung einer diskreten Verteilung\n",
    "    new_distr=dist(*arg) # Erstellen einer Verteilungsklasse \n",
    "    data_synthetic = new_distr.rvs(size=N) # Stichproben aus einer Verteilung   \n",
    "    mle.append(dist.nnlf(arg, sampl_dat)) # Berechnung der Werte der Log-Likelihood-Funktion\n",
    "sse_df=pd.DataFrame({\"Distribution\": distr_list,\n",
    "                    \"MLE\": mle,}) # Erstellen einer Tabelle mit Verteilungen und entsprechenden Werten der Log-Likelihood-Funktion  "
   ]
  },
  {
   "cell_type": "raw",
   "id": "8c2d912f",
   "metadata": {},
   "source": [
    "Sortierte Werte der Log-Likelihood-Funktion"
   ]
  },
  {
   "cell_type": "code",
   "execution_count": 20,
   "id": "7525e266",
   "metadata": {
    "scrolled": true
   },
   "outputs": [
    {
     "data": {
      "text/html": [
       "<div>\n",
       "<style scoped>\n",
       "    .dataframe tbody tr th:only-of-type {\n",
       "        vertical-align: middle;\n",
       "    }\n",
       "\n",
       "    .dataframe tbody tr th {\n",
       "        vertical-align: top;\n",
       "    }\n",
       "\n",
       "    .dataframe thead th {\n",
       "        text-align: right;\n",
       "    }\n",
       "</style>\n",
       "<table border=\"1\" class=\"dataframe\">\n",
       "  <thead>\n",
       "    <tr style=\"text-align: right;\">\n",
       "      <th></th>\n",
       "      <th>Distribution</th>\n",
       "      <th>MLE</th>\n",
       "    </tr>\n",
       "  </thead>\n",
       "  <tbody>\n",
       "    <tr>\n",
       "      <th>6</th>\n",
       "      <td>beta</td>\n",
       "      <td>745461.539086</td>\n",
       "    </tr>\n",
       "    <tr>\n",
       "      <th>9</th>\n",
       "      <td>pearson3</td>\n",
       "      <td>747774.583802</td>\n",
       "    </tr>\n",
       "    <tr>\n",
       "      <th>7</th>\n",
       "      <td>loggamma</td>\n",
       "      <td>747784.223637</td>\n",
       "    </tr>\n",
       "    <tr>\n",
       "      <th>8</th>\n",
       "      <td>exponnorm</td>\n",
       "      <td>747827.195261</td>\n",
       "    </tr>\n",
       "    <tr>\n",
       "      <th>0</th>\n",
       "      <td>norm</td>\n",
       "      <td>747827.195290</td>\n",
       "    </tr>\n",
       "    <tr>\n",
       "      <th>3</th>\n",
       "      <td>t</td>\n",
       "      <td>747827.289963</td>\n",
       "    </tr>\n",
       "    <tr>\n",
       "      <th>12</th>\n",
       "      <td>betaprime</td>\n",
       "      <td>747895.364614</td>\n",
       "    </tr>\n",
       "    <tr>\n",
       "      <th>4</th>\n",
       "      <td>gamma</td>\n",
       "      <td>747896.271179</td>\n",
       "    </tr>\n",
       "    <tr>\n",
       "      <th>10</th>\n",
       "      <td>alpha</td>\n",
       "      <td>747941.251484</td>\n",
       "    </tr>\n",
       "    <tr>\n",
       "      <th>13</th>\n",
       "      <td>chi</td>\n",
       "      <td>748073.078191</td>\n",
       "    </tr>\n",
       "    <tr>\n",
       "      <th>14</th>\n",
       "      <td>chi2</td>\n",
       "      <td>748615.213987</td>\n",
       "    </tr>\n",
       "    <tr>\n",
       "      <th>11</th>\n",
       "      <td>burr</td>\n",
       "      <td>758322.264210</td>\n",
       "    </tr>\n",
       "    <tr>\n",
       "      <th>1</th>\n",
       "      <td>expon</td>\n",
       "      <td>791694.929921</td>\n",
       "    </tr>\n",
       "    <tr>\n",
       "      <th>2</th>\n",
       "      <td>pareto</td>\n",
       "      <td>793425.450973</td>\n",
       "    </tr>\n",
       "    <tr>\n",
       "      <th>5</th>\n",
       "      <td>lognorm</td>\n",
       "      <td>908741.175088</td>\n",
       "    </tr>\n",
       "  </tbody>\n",
       "</table>\n",
       "</div>"
      ],
      "text/plain": [
       "   Distribution            MLE\n",
       "6          beta  745461.539086\n",
       "9      pearson3  747774.583802\n",
       "7      loggamma  747784.223637\n",
       "8     exponnorm  747827.195261\n",
       "0          norm  747827.195290\n",
       "3             t  747827.289963\n",
       "12    betaprime  747895.364614\n",
       "4         gamma  747896.271179\n",
       "10        alpha  747941.251484\n",
       "13          chi  748073.078191\n",
       "14         chi2  748615.213987\n",
       "11         burr  758322.264210\n",
       "1         expon  791694.929921\n",
       "2        pareto  793425.450973\n",
       "5       lognorm  908741.175088"
      ]
     },
     "execution_count": 20,
     "metadata": {},
     "output_type": "execute_result"
    }
   ],
   "source": [
    "sse_df.sort_values(by=['MLE'],ascending=True)"
   ]
  },
  {
   "cell_type": "raw",
   "id": "8d46dd3a",
   "metadata": {},
   "source": [
    "Initialisierung einer Klasse mit einer bestimmten RSE-Methode und Verteilungen für die Sortierung"
   ]
  },
  {
   "cell_type": "code",
   "execution_count": 21,
   "id": "143ede50",
   "metadata": {},
   "outputs": [],
   "source": [
    "dist = distfit(stats='RSS',distr=distr_list)   "
   ]
  },
  {
   "cell_type": "raw",
   "id": "59aa6d00",
   "metadata": {},
   "source": [
    "Anwendung einer bestimmten Klasse auf eine Stichprobe aus einer diskreten Verteilung"
   ]
  },
  {
   "cell_type": "code",
   "execution_count": 22,
   "id": "5ba2ff88",
   "metadata": {
    "scrolled": false
   },
   "outputs": [
    {
     "name": "stdout",
     "output_type": "stream",
     "text": [
      "[distfit] >fit..\n",
      "[distfit] >transform..\n",
      "[distfit] >[norm     ] [0.00 sec] [RSS: 0.0188969] [loc=2397.094 scale=35.395]\n",
      "[distfit] >[expon    ] [0.00 sec] [RSS: 0.0199038] [loc=2325.000 scale=72.094]\n",
      "[distfit] >[pareto   ] [3.22 sec] [RSS: 0.0199376] [loc=-0.960 scale=2325.960]\n",
      "[distfit] >[t        ] [1.67 sec] [RSS: 0.0188969] [loc=2397.094 scale=35.395]\n",
      "[distfit] >[gamma    ] [2.03 sec] [RSS: 0.0189002] [loc=782.873 scale=0.777]\n",
      "[distfit] >[lognorm  ] [5.95 sec] [RSS: 0.0218552] [loc=2325.000 scale=5.730]\n",
      "[distfit] >[beta     ] [1.48 sec] [RSS: 0.018876] [loc=2307.064 scale=181.927]\n",
      "[distfit] >[loggamma ] [2.13 sec] [RSS: 0.0188922] [loc=-360.165 scale=514.925]\n",
      "[distfit] >[exponnorm] [1.96 sec] [RSS: 0.0188969] [loc=2397.067 scale=35.395]\n",
      "[distfit] >[pearson3 ] [5.48 sec] [RSS: 0.0188911] [loc=2397.094 scale=35.403]\n",
      "[distfit] >[alpha    ] [3.15 sec] [RSS: 0.0189014] [loc=-998.016 scale=324956.212]\n",
      "[distfit] >[burr     ] [15.5 sec] [RSS: 0.01904] [loc=-228.072 scale=2248.695]\n",
      "[distfit] >[betaprime] [3.95 sec] [RSS: 0.0189002] [loc=-78.809 scale=2679.183]\n",
      "[distfit] >[chi      ] [1.98 sec] [RSS: 0.0189074] [loc=2156.997 scale=50.600]\n",
      "[distfit] >[chi2     ] [2.36 sec] [RSS: 0.0189187] [loc=2109.293 scale=2.259]\n",
      "[distfit] >Compute confidence interval [parametric]\n"
     ]
    },
    {
     "data": {
      "text/plain": [
       "{'model': {'distr': <scipy.stats._continuous_distns.beta_gen at 0x26d2925ba90>,\n",
       "  'stats': 'RSS',\n",
       "  'params': (2.710977583976719,\n",
       "   2.7748830268882587,\n",
       "   2307.0642859930413,\n",
       "   181.92657046478936),\n",
       "  'name': 'beta',\n",
       "  'model': <scipy.stats._distn_infrastructure.rv_frozen at 0x26d2b659700>,\n",
       "  'score': 0.018876013314799142,\n",
       "  'loc': 2307.0642859930413,\n",
       "  'scale': 181.92657046478936,\n",
       "  'arg': (2.710977583976719, 2.7748830268882587),\n",
       "  'CII_min_alpha': 2338.5483316617433,\n",
       "  'CII_max_alpha': 2455.860553288042},\n",
       " 'summary':         distr     score  LLE          loc          scale  \\\n",
       " 0        beta  0.018876  NaN  2307.064286      181.92657   \n",
       " 1    pearson3  0.018891  NaN  2397.093675      35.403474   \n",
       " 2    loggamma  0.018892  NaN  -360.165094      514.92531   \n",
       " 3   exponnorm  0.018897  NaN  2397.067167      35.395304   \n",
       " 4        norm  0.018897  NaN  2397.093667      35.395196   \n",
       " 5           t  0.018897  NaN  2397.093576      35.394928   \n",
       " 6       gamma    0.0189  NaN   782.873394       0.777441   \n",
       " 7   betaprime    0.0189  NaN   -78.808807    2679.183208   \n",
       " 8       alpha  0.018901  NaN  -998.016346  324956.212375   \n",
       " 9         chi  0.018907  NaN  2156.996752      50.599895   \n",
       " 10       chi2  0.018919  NaN  2109.293392       2.259333   \n",
       " 11       burr   0.01904  NaN   -228.07183    2248.694586   \n",
       " 12      expon  0.019904  NaN       2325.0      72.093667   \n",
       " 13     pareto  0.019938  NaN    -0.959873    2325.959873   \n",
       " 14    lognorm  0.021855  NaN       2325.0       5.730408   \n",
       " \n",
       "                                         arg  \n",
       " 0   (2.710977583976719, 2.7748830268882587)  \n",
       " 1                   (-0.08378257854876489,)  \n",
       " 2                     (212.09544166915765,)  \n",
       " 3                  (0.0007497642541681434,)  \n",
       " 4                                        ()  \n",
       " 5                     (215241.70243399154,)  \n",
       " 6                      (2076.327828638061,)  \n",
       " 7    (9405.20609428522, 10178.407660846959)  \n",
       " 8                      (95.72389370366133,)  \n",
       " 9                      (23.00548914563639,)  \n",
       " 10                    (127.25308227275042,)  \n",
       " 11   (76.27509304747272, 79101.65737875176)  \n",
       " 12                                       ()  \n",
       " 13                    (32.877904037840096,)  \n",
       " 14                      (5.58408052273138,)  ,\n",
       " 'histdata': (array([0.01659111, 0.        , 0.        , 0.        , 0.        ,\n",
       "         0.        , 0.        , 0.        , 0.04102667, 0.        ,\n",
       "         0.        , 0.        , 0.        , 0.        , 0.        ,\n",
       "         0.        , 0.07447333, 0.        , 0.        , 0.        ,\n",
       "         0.        , 0.        , 0.        , 0.        , 0.        ,\n",
       "         0.08388222, 0.        , 0.        , 0.        , 0.        ,\n",
       "         0.        , 0.        , 0.        , 0.07559556, 0.        ,\n",
       "         0.        , 0.        , 0.        , 0.        , 0.        ,\n",
       "         0.        , 0.03334   , 0.        , 0.        , 0.        ,\n",
       "         0.        , 0.        , 0.        , 0.        , 0.00842444]),\n",
       "  array([2326.5, 2329.5, 2332.5, 2335.5, 2338.5, 2341.5, 2344.5, 2347.5,\n",
       "         2350.5, 2353.5, 2356.5, 2359.5, 2362.5, 2365.5, 2368.5, 2371.5,\n",
       "         2374.5, 2377.5, 2380.5, 2383.5, 2386.5, 2389.5, 2392.5, 2395.5,\n",
       "         2398.5, 2401.5, 2404.5, 2407.5, 2410.5, 2413.5, 2416.5, 2419.5,\n",
       "         2422.5, 2425.5, 2428.5, 2431.5, 2434.5, 2437.5, 2440.5, 2443.5,\n",
       "         2446.5, 2449.5, 2452.5, 2455.5, 2458.5, 2461.5, 2464.5, 2467.5,\n",
       "         2470.5, 2473.5])),\n",
       " 'size': 150000,\n",
       " 'alpha': 0.05,\n",
       " 'stats': 'RSS',\n",
       " 'bins': 50,\n",
       " 'bound': 'both',\n",
       " 'distr': ['norm',\n",
       "  'expon',\n",
       "  'pareto',\n",
       "  't',\n",
       "  'gamma',\n",
       "  'lognorm',\n",
       "  'beta',\n",
       "  'loggamma',\n",
       "  'exponnorm',\n",
       "  'pearson3',\n",
       "  'alpha',\n",
       "  'burr',\n",
       "  'betaprime',\n",
       "  'chi',\n",
       "  'chi2'],\n",
       " 'method': 'parametric',\n",
       " 'multtest': 'fdr_bh',\n",
       " 'n_perm': 10000,\n",
       " 'smooth': None,\n",
       " 'weighted': True,\n",
       " 'f': 1.5}"
      ]
     },
     "execution_count": 22,
     "metadata": {},
     "output_type": "execute_result"
    }
   ],
   "source": [
    "dist.fit_transform(sampl_dat) "
   ]
  },
  {
   "cell_type": "raw",
   "id": "496c3ca2",
   "metadata": {},
   "source": [
    "Berechnung der Parameter der Beta-Verteilung "
   ]
  },
  {
   "cell_type": "code",
   "execution_count": 23,
   "id": "23ed05ff",
   "metadata": {},
   "outputs": [],
   "source": [
    "dist_param=stats.beta.fit(sampl_dat)"
   ]
  },
  {
   "cell_type": "markdown",
   "id": "da8e89bc",
   "metadata": {},
   "source": [
    "Initialisierung einer Verteilungsklasse mit hinteren Parametern"
   ]
  },
  {
   "cell_type": "code",
   "execution_count": 24,
   "id": "dc987c7b",
   "metadata": {},
   "outputs": [],
   "source": [
    "menge_distr=stats.beta(*dist_param)"
   ]
  },
  {
   "cell_type": "raw",
   "id": "ee7719a2",
   "metadata": {},
   "source": [
    "Stichproben aus einer Verteilung"
   ]
  },
  {
   "cell_type": "code",
   "execution_count": 25,
   "id": "f2c5441a",
   "metadata": {},
   "outputs": [],
   "source": [
    "data_synthetic = menge_distr.rvs( size=N)    "
   ]
  },
  {
   "cell_type": "raw",
   "id": "08726d0a",
   "metadata": {},
   "source": [
    "Visualisierung von kontinuierlichen und diskreten Verteilungen"
   ]
  },
  {
   "cell_type": "code",
   "execution_count": 26,
   "id": "04eaaac3",
   "metadata": {},
   "outputs": [
    {
     "data": {
      "text/plain": [
       "[<matplotlib.axis.XTick at 0x26d2bb38ac0>,\n",
       " <matplotlib.axis.XTick at 0x26d2bb38a90>,\n",
       " <matplotlib.axis.XTick at 0x26d2bb38190>,\n",
       " <matplotlib.axis.XTick at 0x26d2bb67790>,\n",
       " <matplotlib.axis.XTick at 0x26d2bb70040>,\n",
       " <matplotlib.axis.XTick at 0x26d2bb67b80>,\n",
       " <matplotlib.axis.XTick at 0x26d2bb70820>,\n",
       " <matplotlib.axis.XTick at 0x26d2bb76040>]"
      ]
     },
     "execution_count": 26,
     "metadata": {},
     "output_type": "execute_result"
    },
    {
     "data": {
      "image/png": "[encoded data removed]",
      "text/plain": [
       "<Figure size 432x288 with 1 Axes>"
      ]
     },
     "metadata": {
      "needs_background": "light"
     },
     "output_type": "display_data"
    }
   ],
   "source": [
    "ticks=[2325,2350,2375,2400,2425,2450,2475,2500]\n",
    "fig, ax = plt.subplots(1, 1)\n",
    "plt.title(\"Menge\")\n",
    "x = np.linspace(menge_distr.ppf(0.01),\n",
    "                menge_distr.ppf(0.99), N)\n",
    "ax.hist(sampl_dat, density=True, alpha=0.6,color='red',bins=ticks, histtype='step',align=\"left\" )\n",
    "ax.plot(x, menge_distr.pdf(x), 'r-', lw=5, alpha=0.6, label='beta pdf',color=\"green\")\n",
    "ax.set_xticks(ticks)"
   ]
  },
  {
   "cell_type": "markdown",
   "id": "7df50c89",
   "metadata": {},
   "source": [
    "# Variable Costs"
   ]
  },
  {
   "cell_type": "raw",
   "id": "c87b82e9",
   "metadata": {},
   "source": [
    "Werte und zugehörige Wahrscheinlichkeiten"
   ]
  },
  {
   "cell_type": "code",
   "execution_count": 27,
   "id": "a3f8fd56",
   "metadata": {},
   "outputs": [],
   "source": [
    "var_costs=np.array([80,90,100,110,120])\n",
    "prob_var_costs=np.array([0.1,0.225,0.4,0.175,0.1])"
   ]
  },
  {
   "cell_type": "raw",
   "id": "308d2373",
   "metadata": {},
   "source": [
    "Erstellung einer diskreten Verteilung und Stichprobenziehung"
   ]
  },
  {
   "cell_type": "code",
   "execution_count": 28,
   "id": "2d91709a",
   "metadata": {},
   "outputs": [],
   "source": [
    "custm = stats.rv_discrete(name='custm', values=(var_costs, prob_var_costs))"
   ]
  },
  {
   "cell_type": "code",
   "execution_count": 29,
   "id": "f74ec258",
   "metadata": {},
   "outputs": [],
   "source": [
    "sampl_dat=custm.rvs(size=N)"
   ]
  },
  {
   "cell_type": "raw",
   "id": "5e72bad9",
   "metadata": {},
   "source": [
    "Berechnung der Werte der Log-Likelihood-Funktion für die Verteilungsgesetze"
   ]
  },
  {
   "cell_type": "code",
   "execution_count": 30,
   "id": "93f1de21",
   "metadata": {},
   "outputs": [],
   "source": [
    "mle=[]\n",
    "for i in distr_list:\n",
    "    dist = getattr(scipy.stats, i) # Rücknahme Name des Vertriebs\n",
    "    arg = dist.fit(sampl_dat) # Berechnung der Verteilungsargumente bei Verwendung einer diskreten Verteilung\n",
    "    new_distr=dist(*arg) # Erstellen einer Verteilungsklasse \n",
    "    data_synthetic = new_distr.rvs(size=N) # Stichproben aus einer Verteilung   \n",
    "    mle.append(dist.nnlf(arg, sampl_dat)) # Berechnung der Werte der Log-Likelihood-Funktion\n",
    "sse_df=pd.DataFrame({\"Distribution\": distr_list,\n",
    "                    \"MLE\": mle,}) # Erstellen einer Tabelle mit Verteilungen und entsprechenden Werten der Log-Likelihood-Funktion     "
   ]
  },
  {
   "cell_type": "raw",
   "id": "ef4c1062",
   "metadata": {},
   "source": [
    "Sortierte Werte der Log-Likelihood-Funktion"
   ]
  },
  {
   "cell_type": "code",
   "execution_count": 31,
   "id": "8d58ac74",
   "metadata": {
    "scrolled": true
   },
   "outputs": [
    {
     "data": {
      "text/html": [
       "<div>\n",
       "<style scoped>\n",
       "    .dataframe tbody tr th:only-of-type {\n",
       "        vertical-align: middle;\n",
       "    }\n",
       "\n",
       "    .dataframe tbody tr th {\n",
       "        vertical-align: top;\n",
       "    }\n",
       "\n",
       "    .dataframe thead th {\n",
       "        text-align: right;\n",
       "    }\n",
       "</style>\n",
       "<table border=\"1\" class=\"dataframe\">\n",
       "  <thead>\n",
       "    <tr style=\"text-align: right;\">\n",
       "      <th></th>\n",
       "      <th>Distribution</th>\n",
       "      <th>MLE</th>\n",
       "    </tr>\n",
       "  </thead>\n",
       "  <tbody>\n",
       "    <tr>\n",
       "      <th>6</th>\n",
       "      <td>beta</td>\n",
       "      <td>439410.313028</td>\n",
       "    </tr>\n",
       "    <tr>\n",
       "      <th>14</th>\n",
       "      <td>chi2</td>\n",
       "      <td>500659.280920</td>\n",
       "    </tr>\n",
       "    <tr>\n",
       "      <th>5</th>\n",
       "      <td>lognorm</td>\n",
       "      <td>522177.725387</td>\n",
       "    </tr>\n",
       "    <tr>\n",
       "      <th>13</th>\n",
       "      <td>chi</td>\n",
       "      <td>571146.972851</td>\n",
       "    </tr>\n",
       "    <tr>\n",
       "      <th>9</th>\n",
       "      <td>pearson3</td>\n",
       "      <td>571385.537749</td>\n",
       "    </tr>\n",
       "    <tr>\n",
       "      <th>4</th>\n",
       "      <td>gamma</td>\n",
       "      <td>571392.270594</td>\n",
       "    </tr>\n",
       "    <tr>\n",
       "      <th>8</th>\n",
       "      <td>exponnorm</td>\n",
       "      <td>571575.487532</td>\n",
       "    </tr>\n",
       "    <tr>\n",
       "      <th>0</th>\n",
       "      <td>norm</td>\n",
       "      <td>571583.569244</td>\n",
       "    </tr>\n",
       "    <tr>\n",
       "      <th>3</th>\n",
       "      <td>t</td>\n",
       "      <td>571584.652327</td>\n",
       "    </tr>\n",
       "    <tr>\n",
       "      <th>7</th>\n",
       "      <td>loggamma</td>\n",
       "      <td>571697.397219</td>\n",
       "    </tr>\n",
       "    <tr>\n",
       "      <th>10</th>\n",
       "      <td>alpha</td>\n",
       "      <td>571797.607965</td>\n",
       "    </tr>\n",
       "    <tr>\n",
       "      <th>12</th>\n",
       "      <td>betaprime</td>\n",
       "      <td>571941.936944</td>\n",
       "    </tr>\n",
       "    <tr>\n",
       "      <th>11</th>\n",
       "      <td>burr</td>\n",
       "      <td>574007.038712</td>\n",
       "    </tr>\n",
       "    <tr>\n",
       "      <th>1</th>\n",
       "      <td>expon</td>\n",
       "      <td>595474.965004</td>\n",
       "    </tr>\n",
       "    <tr>\n",
       "      <th>2</th>\n",
       "      <td>pareto</td>\n",
       "      <td>606334.745573</td>\n",
       "    </tr>\n",
       "  </tbody>\n",
       "</table>\n",
       "</div>"
      ],
      "text/plain": [
       "   Distribution            MLE\n",
       "6          beta  439410.313028\n",
       "14         chi2  500659.280920\n",
       "5       lognorm  522177.725387\n",
       "13          chi  571146.972851\n",
       "9      pearson3  571385.537749\n",
       "4         gamma  571392.270594\n",
       "8     exponnorm  571575.487532\n",
       "0          norm  571583.569244\n",
       "3             t  571584.652327\n",
       "7      loggamma  571697.397219\n",
       "10        alpha  571797.607965\n",
       "12    betaprime  571941.936944\n",
       "11         burr  574007.038712\n",
       "1         expon  595474.965004\n",
       "2        pareto  606334.745573"
      ]
     },
     "execution_count": 31,
     "metadata": {},
     "output_type": "execute_result"
    }
   ],
   "source": [
    "sse_df.sort_values(by=['MLE'],ascending=True)"
   ]
  },
  {
   "cell_type": "raw",
   "id": "046e022e",
   "metadata": {},
   "source": [
    "Initialisierung einer Klasse mit einer bestimmten RSE-Methode und Verteilungen für die Sortierung"
   ]
  },
  {
   "cell_type": "code",
   "execution_count": 32,
   "id": "24441512",
   "metadata": {},
   "outputs": [],
   "source": [
    "dist = distfit(stats='RSS',distr=distr_list)   "
   ]
  },
  {
   "cell_type": "raw",
   "id": "066cb48c",
   "metadata": {},
   "source": [
    "Anwendung einer bestimmten Klasse auf eine Stichprobe aus einer diskreten Verteilung"
   ]
  },
  {
   "cell_type": "code",
   "execution_count": 33,
   "id": "6ddee7c3",
   "metadata": {
    "scrolled": false
   },
   "outputs": [
    {
     "name": "stdout",
     "output_type": "stream",
     "text": [
      "[distfit] >fit..\n",
      "[distfit] >transform..\n",
      "[distfit] >[norm     ] [0.00 sec] [RSS: 0.376191] [loc=99.489 scale=10.931]\n",
      "[distfit] >[expon    ] [0.00 sec] [RSS: 0.385621] [loc=80.000 scale=19.489]\n",
      "[distfit] >[pareto   ] [3.52 sec] [RSS: 0.388279] [loc=-0.307 scale=80.307]\n",
      "[distfit] >[t        ] [2.19 sec] [RSS: 0.376191] [loc=99.489 scale=10.931]\n",
      "[distfit] >[gamma    ] [2.06 sec] [RSS: 0.376249] [loc=-69.972 scale=0.705]\n",
      "[distfit] >[lognorm  ] [6.12 sec] [RSS: 0.390178] [loc=80.000 scale=7.246]\n",
      "[distfit] >[beta     ] [4.69 sec] [RSS: 0.376466] [loc=79.994 scale=40.006]\n",
      "[distfit] >[loggamma ] [2.05 sec] [RSS: 0.376176] [loc=-1796.815 scale=289.890]\n",
      "[distfit] >[exponnorm] [1.36 sec] [RSS: 0.376191] [loc=97.470 scale=10.743]\n",
      "[distfit] >[pearson3 ] [2.56 sec] [RSS: 0.376271] [loc=99.489 scale=10.939]\n",
      "[distfit] >[alpha    ] [3.24 sec] [RSS: 0.376487] [loc=-98.279 scale=3547.885]\n",
      "[distfit] >[burr     ] [16.0 sec] [RSS: 0.37602] [loc=-0.472 scale=101.128]\n",
      "[distfit] >[betaprime] [4.16 sec] [RSS: 0.376573] [loc=-1.784 scale=33.190]\n",
      "[distfit] >[chi      ] [1.73 sec] [RSS: 0.376487] [loc=61.580 scale=15.913]\n",
      "[distfit] >[chi2     ] [2.62 sec] [RSS: 0.386881] [loc=80.000 scale=12.233]\n",
      "[distfit] >Compute confidence interval [parametric]\n"
     ]
    },
    {
     "data": {
      "text/plain": [
       "{'model': {'distr': <scipy.stats._continuous_distns.burr_gen at 0x26d29254640>,\n",
       "  'stats': 'RSS',\n",
       "  'params': (16.82101986654162,\n",
       "   0.8468092654482916,\n",
       "   -0.47235986546799535,\n",
       "   101.12789403487186),\n",
       "  'name': 'burr',\n",
       "  'model': <scipy.stats._distn_infrastructure.rv_frozen at 0x26d2bb76f40>,\n",
       "  'score': 0.37601988556960925,\n",
       "  'loc': -0.47235986546799535,\n",
       "  'scale': 101.12789403487186,\n",
       "  'arg': (16.82101986654162, 0.8468092654482916),\n",
       "  'CII_min_alpha': 81.61860698203363,\n",
       "  'CII_max_alpha': 118.78305963565825},\n",
       " 'summary':         distr     score  LLE          loc        scale  \\\n",
       " 0        burr   0.37602  NaN     -0.47236   101.127894   \n",
       " 1    loggamma  0.376176  NaN -1796.815184   289.889918   \n",
       " 2           t  0.376191  NaN    99.488614    10.930664   \n",
       " 3        norm  0.376191  NaN    99.488667    10.931173   \n",
       " 4   exponnorm  0.376191  NaN    97.469545    10.743315   \n",
       " 5       gamma  0.376249  NaN   -69.972207     0.705022   \n",
       " 6    pearson3  0.376271  NaN    99.488623    10.939458   \n",
       " 7        beta  0.376466  NaN    79.993858    40.006142   \n",
       " 8         chi  0.376487  NaN    61.580015    15.912863   \n",
       " 9       alpha  0.376487  NaN   -98.279192  3547.884584   \n",
       " 10  betaprime  0.376573  NaN    -1.783717    33.190188   \n",
       " 11      expon  0.385621  NaN         80.0    19.488667   \n",
       " 12       chi2  0.386881  NaN         80.0    12.232668   \n",
       " 13     pareto  0.388279  NaN    -0.306698    80.306698   \n",
       " 14    lognorm  0.390178  NaN         80.0     7.246489   \n",
       " \n",
       "                                         arg  \n",
       " 0   (16.82101986654162, 0.8468092654482916)  \n",
       " 1                      (693.7703572108635,)  \n",
       " 2                     (16689.384057439333,)  \n",
       " 3                                        ()  \n",
       " 4                     (0.1879413740465704,)  \n",
       " 5                     (240.34795036173273,)  \n",
       " 6                    (0.15789511286296892,)  \n",
       " 7    (0.9465952742841937, 0.76060875134717)  \n",
       " 8                     (6.1470701409333675,)  \n",
       " 9                      (18.00078032221286,)  \n",
       " 10  (343.6662208667318, 113.63824012665012)  \n",
       " 11                                       ()  \n",
       " 12                    (1.5488745731635105,)  \n",
       " 13                     (4.734776181431803,)  \n",
       " 14                     (7.365067022157147,)  ,\n",
       " 'histdata': (array([0.124625  , 0.        , 0.        , 0.        , 0.        ,\n",
       "         0.        , 0.        , 0.        , 0.        , 0.        ,\n",
       "         0.        , 0.        , 0.28223333, 0.        , 0.        ,\n",
       "         0.        , 0.        , 0.        , 0.        , 0.        ,\n",
       "         0.        , 0.        , 0.        , 0.        , 0.        ,\n",
       "         0.499875  , 0.        , 0.        , 0.        , 0.        ,\n",
       "         0.        , 0.        , 0.        , 0.        , 0.        ,\n",
       "         0.        , 0.        , 0.21896667, 0.        , 0.        ,\n",
       "         0.        , 0.        , 0.        , 0.        , 0.        ,\n",
       "         0.        , 0.        , 0.        , 0.        , 0.1243    ]),\n",
       "  array([ 80.4,  81.2,  82. ,  82.8,  83.6,  84.4,  85.2,  86. ,  86.8,\n",
       "          87.6,  88.4,  89.2,  90. ,  90.8,  91.6,  92.4,  93.2,  94. ,\n",
       "          94.8,  95.6,  96.4,  97.2,  98. ,  98.8,  99.6, 100.4, 101.2,\n",
       "         102. , 102.8, 103.6, 104.4, 105.2, 106. , 106.8, 107.6, 108.4,\n",
       "         109.2, 110. , 110.8, 111.6, 112.4, 113.2, 114. , 114.8, 115.6,\n",
       "         116.4, 117.2, 118. , 118.8, 119.6])),\n",
       " 'size': 150000,\n",
       " 'alpha': 0.05,\n",
       " 'stats': 'RSS',\n",
       " 'bins': 50,\n",
       " 'bound': 'both',\n",
       " 'distr': ['norm',\n",
       "  'expon',\n",
       "  'pareto',\n",
       "  't',\n",
       "  'gamma',\n",
       "  'lognorm',\n",
       "  'beta',\n",
       "  'loggamma',\n",
       "  'exponnorm',\n",
       "  'pearson3',\n",
       "  'alpha',\n",
       "  'burr',\n",
       "  'betaprime',\n",
       "  'chi',\n",
       "  'chi2'],\n",
       " 'method': 'parametric',\n",
       " 'multtest': 'fdr_bh',\n",
       " 'n_perm': 10000,\n",
       " 'smooth': None,\n",
       " 'weighted': True,\n",
       " 'f': 1.5}"
      ]
     },
     "execution_count": 33,
     "metadata": {},
     "output_type": "execute_result"
    }
   ],
   "source": [
    "dist.fit_transform(sampl_dat) "
   ]
  },
  {
   "cell_type": "raw",
   "id": "77f12f34",
   "metadata": {},
   "source": [
    "Berechnung der Parameter der Grat-Verteilung "
   ]
  },
  {
   "cell_type": "code",
   "execution_count": 34,
   "id": "6262b7ac",
   "metadata": {},
   "outputs": [],
   "source": [
    "dist_param=stats.burr.fit(sampl_dat)"
   ]
  },
  {
   "cell_type": "raw",
   "id": "e271656a",
   "metadata": {},
   "source": [
    "Initialisierung einer Verteilungsklasse mit hinteren Parametern"
   ]
  },
  {
   "cell_type": "code",
   "execution_count": 35,
   "id": "01761072",
   "metadata": {},
   "outputs": [],
   "source": [
    "var_costs_distr=stats.burr(*dist_param)"
   ]
  },
  {
   "cell_type": "raw",
   "id": "2dccd2a3",
   "metadata": {},
   "source": [
    "Stichproben aus einer Verteilung"
   ]
  },
  {
   "cell_type": "code",
   "execution_count": 36,
   "id": "4cecbcf7",
   "metadata": {},
   "outputs": [],
   "source": [
    "data_synthetic = var_costs_distr.rvs( size=N)    "
   ]
  },
  {
   "cell_type": "raw",
   "id": "27070f1b",
   "metadata": {},
   "source": [
    "Visualisierung von kontinuierlichen und diskreten Verteilungen"
   ]
  },
  {
   "cell_type": "code",
   "execution_count": 37,
   "id": "208f06ad",
   "metadata": {},
   "outputs": [
    {
     "data": {
      "text/plain": [
       "[<matplotlib.axis.XTick at 0x26d2e2b9610>,\n",
       " <matplotlib.axis.XTick at 0x26d2e2b95e0>,\n",
       " <matplotlib.axis.XTick at 0x26d2e2b2280>,\n",
       " <matplotlib.axis.XTick at 0x26d2e2ea310>,\n",
       " <matplotlib.axis.XTick at 0x26d2e2eaa60>,\n",
       " <matplotlib.axis.XTick at 0x26d2e2ef1f0>]"
      ]
     },
     "execution_count": 37,
     "metadata": {},
     "output_type": "execute_result"
    },
    {
     "data": {
      "image/png": "[encoded data removed]",
      "text/plain": [
       "<Figure size 432x288 with 1 Axes>"
      ]
     },
     "metadata": {
      "needs_background": "light"
     },
     "output_type": "display_data"
    }
   ],
   "source": [
    "ticks=[80,90,100,110,120,130]\n",
    "fig, ax = plt.subplots(1, 1)\n",
    "x = np.linspace(var_costs_distr.ppf(0.01),\n",
    "                var_costs_distr.ppf(0.99), N)\n",
    "ax.hist(sampl_dat, density=True, alpha=0.6,color='red',bins=ticks, histtype='step',align=\"left\" )\n",
    "ax.plot(x, var_costs_distr.pdf(x), 'r-', lw=5, alpha=0.6, label='beta pdf',color=\"green\")\n",
    "ax.set_xticks(ticks)"
   ]
  },
  {
   "cell_type": "markdown",
   "id": "24b77af1",
   "metadata": {},
   "source": [
    "# Fix Costs"
   ]
  },
  {
   "cell_type": "raw",
   "id": "f606ae24",
   "metadata": {},
   "source": [
    "Werte und zugehörige Wahrscheinlichkeiten"
   ]
  },
  {
   "cell_type": "code",
   "execution_count": 38,
   "id": "51ad5fe9",
   "metadata": {},
   "outputs": [],
   "source": [
    "fix_costs=np.array([50000,55000,60000,65000,70000])\n",
    "prob_fix_costs=np.array([0.1,0.275,0.3,0.175,0.15])"
   ]
  },
  {
   "cell_type": "raw",
   "id": "4260f3b6",
   "metadata": {},
   "source": [
    "Erstellung einer diskreten Verteilung und Stichprobenziehung"
   ]
  },
  {
   "cell_type": "code",
   "execution_count": 39,
   "id": "7f5076ce",
   "metadata": {},
   "outputs": [],
   "source": [
    "custm = stats.rv_discrete(name='custm', values=(fix_costs, prob_fix_costs))"
   ]
  },
  {
   "cell_type": "code",
   "execution_count": 40,
   "id": "c7dff267",
   "metadata": {},
   "outputs": [],
   "source": [
    "sampl_dat=custm.rvs(size=N)"
   ]
  },
  {
   "cell_type": "raw",
   "id": "36e9d33f",
   "metadata": {},
   "source": [
    "Berechnung der Werte der Log-Likelihood-Funktion für die Verteilungsgesetze"
   ]
  },
  {
   "cell_type": "code",
   "execution_count": 41,
   "id": "d26084b4",
   "metadata": {},
   "outputs": [],
   "source": [
    "mle=[]\n",
    "for i in distr_list:\n",
    "    dist = getattr(scipy.stats, i) # Rücknahme Name des Vertriebs\n",
    "    arg = dist.fit(sampl_dat) # Berechnung der Verteilungsargumente bei Verwendung einer diskreten Verteilung\n",
    "    new_distr=dist(*arg) # Erstellen einer Verteilungsklasse \n",
    "    data_synthetic = new_distr.rvs(size=N) # Stichproben aus einer Verteilung   \n",
    "    mle.append(dist.nnlf(arg, sampl_dat)) # Berechnung der Werte der Log-Likelihood-Funktion\n",
    "sse_df=pd.DataFrame({\"Distribution\": distr_list,\n",
    "                    \"MLE\": mle,}) # Erstellen einer Tabelle mit Verteilungen und entsprechenden Werten der Log-Likelihood-Funktion     "
   ]
  },
  {
   "cell_type": "raw",
   "id": "f429eb14",
   "metadata": {},
   "source": [
    "Sortierte Werte der Log-Likelihood-Funktion"
   ]
  },
  {
   "cell_type": "code",
   "execution_count": 42,
   "id": "00b4de78",
   "metadata": {
    "scrolled": true
   },
   "outputs": [
    {
     "data": {
      "text/html": [
       "<div>\n",
       "<style scoped>\n",
       "    .dataframe tbody tr th:only-of-type {\n",
       "        vertical-align: middle;\n",
       "    }\n",
       "\n",
       "    .dataframe tbody tr th {\n",
       "        vertical-align: top;\n",
       "    }\n",
       "\n",
       "    .dataframe thead th {\n",
       "        text-align: right;\n",
       "    }\n",
       "</style>\n",
       "<table border=\"1\" class=\"dataframe\">\n",
       "  <thead>\n",
       "    <tr style=\"text-align: right;\">\n",
       "      <th></th>\n",
       "      <th>Distribution</th>\n",
       "      <th>MLE</th>\n",
       "    </tr>\n",
       "  </thead>\n",
       "  <tbody>\n",
       "    <tr>\n",
       "      <th>6</th>\n",
       "      <td>beta</td>\n",
       "      <td>1.283507e+06</td>\n",
       "    </tr>\n",
       "    <tr>\n",
       "      <th>9</th>\n",
       "      <td>pearson3</td>\n",
       "      <td>1.517172e+06</td>\n",
       "    </tr>\n",
       "    <tr>\n",
       "      <th>4</th>\n",
       "      <td>gamma</td>\n",
       "      <td>1.517198e+06</td>\n",
       "    </tr>\n",
       "    <tr>\n",
       "      <th>12</th>\n",
       "      <td>betaprime</td>\n",
       "      <td>1.517499e+06</td>\n",
       "    </tr>\n",
       "    <tr>\n",
       "      <th>10</th>\n",
       "      <td>alpha</td>\n",
       "      <td>1.517661e+06</td>\n",
       "    </tr>\n",
       "    <tr>\n",
       "      <th>8</th>\n",
       "      <td>exponnorm</td>\n",
       "      <td>1.518215e+06</td>\n",
       "    </tr>\n",
       "    <tr>\n",
       "      <th>0</th>\n",
       "      <td>norm</td>\n",
       "      <td>1.518229e+06</td>\n",
       "    </tr>\n",
       "    <tr>\n",
       "      <th>3</th>\n",
       "      <td>t</td>\n",
       "      <td>1.518229e+06</td>\n",
       "    </tr>\n",
       "    <tr>\n",
       "      <th>7</th>\n",
       "      <td>loggamma</td>\n",
       "      <td>1.518381e+06</td>\n",
       "    </tr>\n",
       "    <tr>\n",
       "      <th>11</th>\n",
       "      <td>burr</td>\n",
       "      <td>1.524391e+06</td>\n",
       "    </tr>\n",
       "    <tr>\n",
       "      <th>1</th>\n",
       "      <td>expon</td>\n",
       "      <td>1.531653e+06</td>\n",
       "    </tr>\n",
       "    <tr>\n",
       "      <th>2</th>\n",
       "      <td>pareto</td>\n",
       "      <td>1.540158e+06</td>\n",
       "    </tr>\n",
       "    <tr>\n",
       "      <th>5</th>\n",
       "      <td>lognorm</td>\n",
       "      <td>1.562172e+06</td>\n",
       "    </tr>\n",
       "    <tr>\n",
       "      <th>14</th>\n",
       "      <td>chi2</td>\n",
       "      <td>2.092139e+08</td>\n",
       "    </tr>\n",
       "    <tr>\n",
       "      <th>13</th>\n",
       "      <td>chi</td>\n",
       "      <td>inf</td>\n",
       "    </tr>\n",
       "  </tbody>\n",
       "</table>\n",
       "</div>"
      ],
      "text/plain": [
       "   Distribution           MLE\n",
       "6          beta  1.283507e+06\n",
       "9      pearson3  1.517172e+06\n",
       "4         gamma  1.517198e+06\n",
       "12    betaprime  1.517499e+06\n",
       "10        alpha  1.517661e+06\n",
       "8     exponnorm  1.518215e+06\n",
       "0          norm  1.518229e+06\n",
       "3             t  1.518229e+06\n",
       "7      loggamma  1.518381e+06\n",
       "11         burr  1.524391e+06\n",
       "1         expon  1.531653e+06\n",
       "2        pareto  1.540158e+06\n",
       "5       lognorm  1.562172e+06\n",
       "14         chi2  2.092139e+08\n",
       "13          chi           inf"
      ]
     },
     "execution_count": 42,
     "metadata": {},
     "output_type": "execute_result"
    }
   ],
   "source": [
    "sse_df.sort_values(by=['MLE'],ascending=True)"
   ]
  },
  {
   "cell_type": "raw",
   "id": "0db666a9",
   "metadata": {},
   "source": [
    "Anwendung einer bestimmten Klasse auf eine Stichprobe aus einer diskreten Verteilung"
   ]
  },
  {
   "cell_type": "code",
   "execution_count": 43,
   "id": "e5bf34a4",
   "metadata": {},
   "outputs": [],
   "source": [
    "dist = distfit(stats='RSS',distr=distr_list)   "
   ]
  },
  {
   "cell_type": "raw",
   "id": "30f2eb48",
   "metadata": {},
   "source": [
    "Anwendung einer bestimmten Klasse auf eine Stichprobe aus einer diskreten Verteilung"
   ]
  },
  {
   "cell_type": "code",
   "execution_count": 44,
   "id": "1671bb0f",
   "metadata": {},
   "outputs": [
    {
     "name": "stdout",
     "output_type": "stream",
     "text": [
      "[distfit] >fit..\n",
      "[distfit] >transform..\n",
      "[distfit] >[norm     ] [0.00 sec] [RSS: 1.32011e-06] [loc=60006.800 scale=6018.468]\n",
      "[distfit] >[expon    ] [0.00 sec] [RSS: 1.33873e-06] [loc=50000.000 scale=10006.800]\n",
      "[distfit] >[pareto   ] [2.81 sec] [RSS: 1.34668e-06] [loc=-171.612 scale=50171.612]\n",
      "[distfit] >[t        ] [2.60 sec] [RSS: 1.32011e-06] [loc=60006.588 scale=6018.361]\n",
      "[distfit] >[gamma    ] [2.19 sec] [RSS: 1.31905e-06] [loc=29339.632 scale=1186.540]\n",
      "[distfit] >[lognorm  ] [5.90 sec] [RSS: 1.36642e-06] [loc=50000.000 scale=0.813]\n",
      "[distfit] >[beta     ] [4.40 sec] [RSS: 1.29454e-06] [loc=46626.287 scale=23373.713]\n",
      "[distfit] >[loggamma ] [1.98 sec] [RSS: 1.3199e-06] [loc=-1338848.918 scale=200196.766]\n",
      "[distfit] >[exponnorm] [2.07 sec] [RSS: 1.32007e-06] [loc=58847.646 scale=5906.047]\n",
      "[distfit] >[pearson3 ] [3.39 sec] [RSS: 1.31885e-06] [loc=60006.800 scale=6083.297]\n",
      "[distfit] >[alpha    ] [3.03 sec] [RSS: 1.31918e-06] [loc=-23119.001 scale=1147613.300]\n",
      "[distfit] >[burr     ] [15.1 sec] [RSS: 1.32162e-06] [loc=-426.263 scale=21841.652]\n",
      "[distfit] >[betaprime] [3.91 sec] [RSS: 1.31909e-06] [loc=-9.148 scale=1925.176]\n",
      "[distfit] >[chi      ] [0.43 sec] [RSS: 1.43228e-06] [loc=105439.483 scale=0.000]\n",
      "[distfit] >[chi2     ] [2.38 sec] [RSS: 1.43228e-06] [loc=50000.000 scale=3.624]\n",
      "[distfit] >Compute confidence interval [parametric]\n"
     ]
    },
    {
     "data": {
      "text/plain": [
       "{'model': {'distr': <scipy.stats._continuous_distns.beta_gen at 0x26d2925ba90>,\n",
       "  'stats': 'RSS',\n",
       "  'params': (1.3219294491298812,\n",
       "   0.6992864965690413,\n",
       "   46626.28682830555,\n",
       "   23373.713171694453),\n",
       "  'name': 'beta',\n",
       "  'model': <scipy.stats._distn_infrastructure.rv_frozen at 0x26d2e30c760>,\n",
       "  'score': 1.2945435908258573e-06,\n",
       "  'loc': 46626.28682830555,\n",
       "  'scale': 23373.713171694453,\n",
       "  'arg': (1.3219294491298812, 0.6992864965690413),\n",
       "  'CII_min_alpha': 49894.05436078822,\n",
       "  'CII_max_alpha': 69763.14632973533},\n",
       " 'summary':         distr     score  LLE             loc           scale  \\\n",
       " 0        beta  0.000001  NaN    46626.286828    23373.713172   \n",
       " 1    pearson3  0.000001  NaN    60006.800454     6083.296548   \n",
       " 2       gamma  0.000001  NaN     29339.63198      1186.53991   \n",
       " 3   betaprime  0.000001  NaN       -9.148375     1925.176387   \n",
       " 4       alpha  0.000001  NaN   -23119.001142  1147613.300498   \n",
       " 5    loggamma  0.000001  NaN -1338848.917683   200196.766287   \n",
       " 6   exponnorm  0.000001  NaN    58847.645745     5906.046942   \n",
       " 7        norm  0.000001  NaN         60006.8     6018.467725   \n",
       " 8           t  0.000001  NaN    60006.588091     6018.360566   \n",
       " 9        burr  0.000001  NaN     -426.263405    21841.652165   \n",
       " 10      expon  0.000001  NaN         50000.0         10006.8   \n",
       " 11     pareto  0.000001  NaN     -171.612068    50171.612066   \n",
       " 12    lognorm  0.000001  NaN         50000.0        0.812941   \n",
       " 13       chi2  0.000001  NaN         50000.0        3.624038   \n",
       " 14        chi  0.000001  NaN   105439.483235             0.0   \n",
       " \n",
       "                                          arg  \n",
       " 0   (1.3219294491298812, 0.6992864965690413)  \n",
       " 1                     (0.45865077500896173,)  \n",
       " 2                      (25.827885914379088,)  \n",
       " 3   (3179.5587209498553, 102.99065640008132)  \n",
       " 4                      (13.881758563825237,)  \n",
       " 5                      (1083.2598470750117,)  \n",
       " 6                      (0.1962656353892273,)  \n",
       " 7                                         ()  \n",
       " 8                      (4170882.1256787516,)  \n",
       " 9    (10.748714691498954, 31334.07789634804)  \n",
       " 10                                        ()  \n",
       " 11                      (5.653991764383248,)  \n",
       " 12                      (6.091066252955375,)  \n",
       " 13                 (0.00047067596541968857,)  \n",
       " 14                     (0.8317359767156153,)  ,\n",
       " 'histdata': (array([0.0002491 , 0.        , 0.        , 0.        , 0.        ,\n",
       "         0.        , 0.        , 0.        , 0.        , 0.        ,\n",
       "         0.        , 0.        , 0.00068523, 0.        , 0.        ,\n",
       "         0.        , 0.        , 0.        , 0.        , 0.        ,\n",
       "         0.        , 0.        , 0.        , 0.        , 0.        ,\n",
       "         0.0007557 , 0.        , 0.        , 0.        , 0.        ,\n",
       "         0.        , 0.        , 0.        , 0.        , 0.        ,\n",
       "         0.        , 0.        , 0.0004331 , 0.        , 0.        ,\n",
       "         0.        , 0.        , 0.        , 0.        , 0.        ,\n",
       "         0.        , 0.        , 0.        , 0.        , 0.00037687]),\n",
       "  array([50200., 50600., 51000., 51400., 51800., 52200., 52600., 53000.,\n",
       "         53400., 53800., 54200., 54600., 55000., 55400., 55800., 56200.,\n",
       "         56600., 57000., 57400., 57800., 58200., 58600., 59000., 59400.,\n",
       "         59800., 60200., 60600., 61000., 61400., 61800., 62200., 62600.,\n",
       "         63000., 63400., 63800., 64200., 64600., 65000., 65400., 65800.,\n",
       "         66200., 66600., 67000., 67400., 67800., 68200., 68600., 69000.,\n",
       "         69400., 69800.])),\n",
       " 'size': 150000,\n",
       " 'alpha': 0.05,\n",
       " 'stats': 'RSS',\n",
       " 'bins': 50,\n",
       " 'bound': 'both',\n",
       " 'distr': ['norm',\n",
       "  'expon',\n",
       "  'pareto',\n",
       "  't',\n",
       "  'gamma',\n",
       "  'lognorm',\n",
       "  'beta',\n",
       "  'loggamma',\n",
       "  'exponnorm',\n",
       "  'pearson3',\n",
       "  'alpha',\n",
       "  'burr',\n",
       "  'betaprime',\n",
       "  'chi',\n",
       "  'chi2'],\n",
       " 'method': 'parametric',\n",
       " 'multtest': 'fdr_bh',\n",
       " 'n_perm': 10000,\n",
       " 'smooth': None,\n",
       " 'weighted': True,\n",
       " 'f': 1.5}"
      ]
     },
     "execution_count": 44,
     "metadata": {},
     "output_type": "execute_result"
    }
   ],
   "source": [
    "dist.fit_transform(sampl_dat) "
   ]
  },
  {
   "cell_type": "raw",
   "id": "10700856",
   "metadata": {},
   "source": [
    "Berechnung der Parameter der Pearson-Typ-3-Verteilung "
   ]
  },
  {
   "cell_type": "code",
   "execution_count": 45,
   "id": "a5b08ebd",
   "metadata": {},
   "outputs": [],
   "source": [
    "dist_param=stats.pearson3.fit(sampl_dat)"
   ]
  },
  {
   "cell_type": "raw",
   "id": "c763acdb",
   "metadata": {},
   "source": [
    "Initialisierung einer Verteilungsklasse mit hinteren Parametern"
   ]
  },
  {
   "cell_type": "code",
   "execution_count": 46,
   "id": "19c93edc",
   "metadata": {},
   "outputs": [],
   "source": [
    "fix_costs_distr=stats.pearson3(*dist_param)"
   ]
  },
  {
   "cell_type": "raw",
   "id": "ecfc46a2",
   "metadata": {},
   "source": [
    "Stichproben aus einer Verteilung"
   ]
  },
  {
   "cell_type": "code",
   "execution_count": 47,
   "id": "ec3f4f06",
   "metadata": {},
   "outputs": [],
   "source": [
    "\n",
    "data_synthetic=fix_costs_distr.rvs( size=N)    "
   ]
  },
  {
   "cell_type": "raw",
   "id": "fcb22514",
   "metadata": {},
   "source": [
    "Visualisierung von kontinuierlichen und diskreten Verteilungen"
   ]
  },
  {
   "cell_type": "code",
   "execution_count": 48,
   "id": "4b064ea5",
   "metadata": {},
   "outputs": [
    {
     "data": {
      "text/plain": [
       "[<matplotlib.axis.XTick at 0x26d2e330550>,\n",
       " <matplotlib.axis.XTick at 0x26d2e330520>,\n",
       " <matplotlib.axis.XTick at 0x26d2bb307c0>,\n",
       " <matplotlib.axis.XTick at 0x26d2e361460>,\n",
       " <matplotlib.axis.XTick at 0x26d2e3611c0>,\n",
       " <matplotlib.axis.XTick at 0x26d2e368070>]"
      ]
     },
     "execution_count": 48,
     "metadata": {},
     "output_type": "execute_result"
    },
    {
     "data": {
      "image/png": "[encoded data removed]",
      "text/plain": [
       "<Figure size 432x288 with 1 Axes>"
      ]
     },
     "metadata": {
      "needs_background": "light"
     },
     "output_type": "display_data"
    }
   ],
   "source": [
    "ticks=[50000,55000,60000,65000,70000,75000]\n",
    "fig, ax = plt.subplots(1, 1)\n",
    "x = np.linspace(fix_costs_distr.ppf(0.01),\n",
    "                fix_costs_distr.ppf(0.99), N)\n",
    "ax.hist(sampl_dat, density=True, alpha=0.6,color='red',bins=ticks, histtype='step',align=\"left\" )\n",
    "ax.plot(x, fix_costs_distr.pdf(x), 'r-', lw=5, alpha=0.6, label='beta pdf',color=\"green\")\n",
    "ax.set_xticks(ticks)"
   ]
  }
 ],
 "metadata": {
  "kernelspec": {
   "display_name": "Python 3 (ipykernel)",
   "language": "python",
   "name": "python3"
  },
  "language_info": {
   "codemirror_mode": {
    "name": "ipython",
    "version": 3
   },
   "file_extension": ".py",
   "mimetype": "text/x-python",
   "name": "python",
   "nbconvert_exporter": "python",
   "pygments_lexer": "ipython3",
   "version": "3.11.4"
  }
 },
 "nbformat": 4,
 "nbformat_minor": 5
}
